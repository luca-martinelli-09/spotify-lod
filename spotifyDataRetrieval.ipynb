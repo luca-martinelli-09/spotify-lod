{
 "cells": [
  {
   "cell_type": "code",
   "execution_count": null,
   "metadata": {},
   "outputs": [],
   "source": [
    "# Imports\n",
    "\n",
    "import os\n",
    "import time\n",
    "from pathlib import Path\n",
    "import pandas as pd\n",
    "import json\n",
    "import spotifyCredentials\n",
    "import requests\n",
    "import base64"
   ]
  },
  {
   "cell_type": "markdown",
   "metadata": {},
   "source": [
    "# Setup"
   ]
  },
  {
   "cell_type": "code",
   "execution_count": null,
   "metadata": {},
   "outputs": [],
   "source": [
    "# Get absolute path\n",
    "absPath = str(Path(os.path.abspath(os.getcwd())).absolute())\n",
    "datasetsPath = absPath + \"/datasets\"\n",
    "\n",
    "# Create dataset directory if not exists\n",
    "if not os.path.exists(datasetsPath):\n",
    "    os.mkdir(datasetsPath)\n",
    "\n",
    "# Setup datasets paths\n",
    "genresPath = datasetsPath + \"/genres.csv\"\n",
    "tracksPath = datasetsPath + \"/tracks.csv\"\n",
    "albumsPath = datasetsPath + \"/albums.csv\"\n",
    "artistsPath = datasetsPath + \"/artists.csv\"\n",
    "peoplePath = datasetsPath + \"/people.csv\""
   ]
  },
  {
   "cell_type": "markdown",
   "metadata": {},
   "source": [
    "# Spotify API Functions"
   ]
  },
  {
   "cell_type": "code",
   "execution_count": null,
   "metadata": {},
   "outputs": [],
   "source": [
    "# Spotify credentials to get access token to Spotify API\n",
    "\n",
    "SPOTIFY_CLIENT_ID = spotifyCredentials.SPOTIFY_CLIENT_ID\n",
    "SPOTIFY_SECRET_ID = spotifyCredentials.SPOTIFY_SECRET_ID\n",
    "SPOTIFY_REFRESH_TOKEN = spotifyCredentials.SPOTIFY_REFRESH_TOKEN"
   ]
  },
  {
   "cell_type": "code",
   "execution_count": null,
   "metadata": {},
   "outputs": [],
   "source": [
    "# Function to get the Spotify API Access Token\n",
    "def getAccessToken():\n",
    "    # Spotify Basic Authorization Code\n",
    "    authBasic = base64.b64encode(\"{}:{}\".format(SPOTIFY_CLIENT_ID, SPOTIFY_SECRET_ID).encode()).decode()\n",
    "\n",
    "    # Request to get Access Token from Client ID and Secret ID\n",
    "    accessTokenRequest = requests.post(\"https://accounts.spotify.com/api/token\",\n",
    "        data={\n",
    "            \"grant_type\":\"refresh_token\",\n",
    "            \"refresh_token\":SPOTIFY_REFRESH_TOKEN\n",
    "        },\n",
    "        headers={\n",
    "            \"Authorization\": \"Basic \" + authBasic\n",
    "        }\n",
    "    )\n",
    "\n",
    "    # Get Access Token\n",
    "    accessToken = None\n",
    "\n",
    "    if accessTokenRequest.status_code == 200:\n",
    "        accessToken = accessTokenRequest.json()[\"access_token\"]\n",
    "\n",
    "    return accessToken\n",
    "\n",
    "accessToken = getAccessToken()\n",
    "print(\"🪙 [INFO] Access Token is: {}\".format(accessToken))\n"
   ]
  },
  {
   "cell_type": "code",
   "execution_count": null,
   "metadata": {},
   "outputs": [],
   "source": [
    "# Function to get all available Genres from Spotify API\n",
    "def getAllGenres(fromError=False):\n",
    "    global accessToken\n",
    "\n",
    "    availableGenresRequest = requests.get(\"https://api.spotify.com/v1/recommendations/available-genre-seeds\",\n",
    "        headers={\n",
    "            \"Authorization\": \"Bearer \" + accessToken\n",
    "        })\n",
    "\n",
    "    if availableGenresRequest.status_code == 200:\n",
    "        return availableGenresRequest.json()\n",
    "    elif availableGenresRequest.status_code == 401 and fromError is False: # The access token has expired\n",
    "        accessToken = getAccessToken()\n",
    "        return getAllGenres(fromError=True)\n",
    "    elif availableGenresRequest.status_code == 429 and fromError is False:  # The api rate limit has reached\n",
    "        time.sleep(30)\n",
    "        return getAllGenres(fromError=True)\n",
    "    else:\n",
    "        raise Exception(availableGenresRequest.text)\n"
   ]
  },
  {
   "cell_type": "code",
   "execution_count": null,
   "metadata": {},
   "outputs": [],
   "source": [
    "# Function to get Track info from Spotify API\n",
    "def getTrackInfo(trackID, fromError=False):\n",
    "    global accessToken\n",
    "\n",
    "    trackInfoRequest = requests.get(\"https://api.spotify.com/v1/tracks/{id}\".format(id=trackID),\n",
    "        headers={\n",
    "            \"Authorization\": \"Bearer \" + accessToken\n",
    "        })\n",
    "    \n",
    "    if trackInfoRequest.status_code == 200:\n",
    "        return trackInfoRequest.json()\n",
    "    elif trackInfoRequest.status_code == 401 and fromError is False: # The access token has expired\n",
    "        accessToken = getAccessToken()\n",
    "        return getTrackInfo(trackID, fromError=True)\n",
    "    elif trackInfoRequest.status_code == 429 and fromError is False:  # The api rate limit has reached\n",
    "        time.sleep(30)\n",
    "        return getTrackInfo(trackID, fromError=True)\n",
    "    else:\n",
    "        raise Exception(trackInfoRequest.text)\n"
   ]
  },
  {
   "cell_type": "code",
   "execution_count": null,
   "metadata": {},
   "outputs": [],
   "source": [
    "def getAudioFeatures(trackID, fromError=False):\n",
    "    global accessToken\n",
    "\n",
    "    audioFeaturesRequest = requests.get(\"\thttps://api.spotify.com/v1/audio-features/{id}\".format(id=trackID),\n",
    "                                    headers={\n",
    "        \"Authorization\": \"Bearer \" + accessToken\n",
    "    })\n",
    "\n",
    "    if audioFeaturesRequest.status_code == 200:\n",
    "        return audioFeaturesRequest.json()\n",
    "    elif audioFeaturesRequest.status_code == 401 and fromError is False:  # The access token has expired\n",
    "        accessToken = getAccessToken()\n",
    "        return getAudioFeatures(trackID, fromError=True)\n",
    "    elif audioFeaturesRequest.status_code == 429 and fromError is False:  # The api rate limit has reached\n",
    "        time.sleep(30)\n",
    "        return getAudioFeatures(trackID, fromError=True)\n",
    "    else:\n",
    "        raise Exception(audioFeaturesRequest.text)\n"
   ]
  },
  {
   "cell_type": "markdown",
   "metadata": {},
   "source": [
    "# Parse Data"
   ]
  },
  {
   "cell_type": "code",
   "execution_count": null,
   "metadata": {},
   "outputs": [],
   "source": [
    "# Setup DataFrames\n",
    "\n",
    "genresDF = None\n",
    "genresCols = [\"genre\"]\n",
    "\n",
    "tracksDF = None\n",
    "tracksCols = [\"id\", \"uri\", \"title\", \"duration\", \"popularity\", \"explicit\",\n",
    "              \"key\", \"tempo\", \"mode\", \"time_signature\", \"acousticness\", \"danceability\",\n",
    "              \"energy\", \"loudness\", \"liveness\", \"valence\", \"speechiness\", \"instrumentalness\",\n",
    "              \"artists\", \"album\", \"available_countries\"]\n",
    "\n",
    "albumDF = None\n",
    "albumCols= []\n",
    "\n",
    "artistsDF = None\n",
    "artistsCols= []\n",
    "\n",
    "peopleDF = None\n",
    "peopleCols= []\n"
   ]
  },
  {
   "cell_type": "markdown",
   "metadata": {},
   "source": [
    "## Get genres"
   ]
  },
  {
   "cell_type": "code",
   "execution_count": null,
   "metadata": {},
   "outputs": [],
   "source": [
    "# Get all genres\n",
    "availableGenres = getAllGenres()\n",
    "\n",
    "# Add genres to DataFrame\n",
    "genresDF =  pd.DataFrame(availableGenres[\"genres\"], columns=[\"genre\"])\n",
    "\n",
    "# Print genres DataFrame info\n",
    "genresDF.info()\n",
    "\n",
    "# Save genres dataset to file\n",
    "genresDF.to_csv(genresPath)\n"
   ]
  },
  {
   "cell_type": "markdown",
   "metadata": {},
   "source": [
    "## Get tracks"
   ]
  },
  {
   "cell_type": "code",
   "execution_count": null,
   "metadata": {},
   "outputs": [],
   "source": [
    "# Load Spotify Charts\n",
    "trackCharts = pd.read_csv(os.path.join(\n",
    "    datasetsPath, \"spotifyCharts.csv\"), sep=\",\")\n",
    "\n",
    "# Drop NaN columns\n",
    "trackCharts = trackCharts.dropna()\n",
    "\n",
    "# Print track charts info\n",
    "trackCharts.info()"
   ]
  },
  {
   "cell_type": "code",
   "execution_count": null,
   "metadata": {},
   "outputs": [],
   "source": [
    "# Get only uris\n",
    "spotifyTrackLinks = pd.DataFrame(trackCharts[\"uri\"].drop_duplicates())\n",
    "\n",
    "# Print tracks uris info\n",
    "spotifyTrackLinks.info()\n"
   ]
  },
  {
   "cell_type": "code",
   "execution_count": null,
   "metadata": {},
   "outputs": [],
   "source": [
    "# Setup DataFrame\n",
    "tracksDF = pd.DataFrame([], columns=tracksCols)\n",
    "tracksDF = tracksDF.set_index(\"id\")\n",
    "\n",
    "# Iterate over spotify uris DataFrame\n",
    "index = 0\n",
    "for rowID, rowData in spotifyTrackLinks.iterrows():\n",
    "    spotifyUri = rowData.loc[\"uri\"]\n",
    "\n",
    "    # Get the track id from the uri\n",
    "    trackID = spotifyUri.removeprefix(\"https://open.spotify.com/track/\")\n",
    "\n",
    "    # Try to get track info and audio features\n",
    "    try:\n",
    "        trackInfo = getTrackInfo(trackID)\n",
    "        trackAudioFeatures = getAudioFeatures(trackID)\n",
    "    except Exception as e:\n",
    "        print(\"\\t⛔ [ERROR] Cannot retrieve data with track {id}\\n\\t🗨️ [RESPONSE] {resp}\\n\".format(index=index, id=trackID, resp=e))\n",
    "        continue\n",
    "    \n",
    "    # Get only artists ids\n",
    "    artistsIDs = []\n",
    "    for artist in trackInfo[\"artists\"]:\n",
    "        artistsIDs.append(artist[\"id\"])\n",
    "\n",
    "    # Get and setup the track information needed\n",
    "    trackObject = {\n",
    "        \"id\": trackInfo[\"id\"],\n",
    "        \"uri\": trackInfo[\"external_urls\"][\"spotify\"],\n",
    "        \"title\": trackInfo[\"name\"],\n",
    "        \"duration\": trackInfo[\"duration_ms\"],\n",
    "        \"popularity\": trackInfo[\"popularity\"],\n",
    "        \"explicit\": trackInfo[\"explicit\"],\n",
    "        \"key\": trackAudioFeatures[\"key\"],\n",
    "        \"tempo\": trackAudioFeatures[\"tempo\"],\n",
    "        \"mode\": trackAudioFeatures[\"mode\"],\n",
    "        \"time_signature\": trackAudioFeatures[\"time_signature\"],\n",
    "        \"acousticness\": trackAudioFeatures[\"acousticness\"],\n",
    "        \"danceability\": trackAudioFeatures[\"danceability\"],\n",
    "        \"energy\": trackAudioFeatures[\"energy\"],\n",
    "        \"loudness\": trackAudioFeatures[\"loudness\"],\n",
    "        \"liveness\": trackAudioFeatures[\"liveness\"],\n",
    "        \"valence\": trackAudioFeatures[\"valence\"],\n",
    "        \"speechiness\": trackAudioFeatures[\"speechiness\"],\n",
    "        \"instrumentalness\": trackAudioFeatures[\"instrumentalness\"],\n",
    "        \"artists\": artistsIDs,\n",
    "        \"album\": trackInfo[\"album\"][\"id\"],\n",
    "        \"available_countries\": trackInfo[\"available_markets\"]\n",
    "    }\n",
    "\n",
    "    # Create 1 row DataFrame for the track\n",
    "    trackObjDF = pd.DataFrame([list(trackObject.values())], columns=tracksCols)\n",
    "\n",
    "    # Add the track info to the dataframe\n",
    "    tracksDF = pd.concat([tracksDF, trackObjDF], ignore_index=True)\n",
    "    tracksDF = tracksDF.set_index(\"id\")\n",
    "\n",
    "    # Print stats every 5000 tracks\n",
    "    if index % 5000 == 0:\n",
    "        print(\"🎵 [STATUS INFO #{row}]\\n\".format(row=index))\n",
    "        print(tracksDF.info())\n",
    "\n",
    "    # Save DataFrame to file every 100 tracks\n",
    "    if index % 100 == 0:\n",
    "        print(\"\\n\\t💾 [INFO] Dataset saved\\n\\n\".format(index=index))\n",
    "        tracksDF.to_csv(tracksPath)\n",
    "    \n",
    "    # Increment real index\n",
    "    index += 1\n",
    "\n",
    "# Print info about tracks DataFrame\n",
    "print(tracksDF.info())\n",
    "\n",
    "# Save genres dataset to file\n",
    "tracksDF.to_csv(tracksPath)\n"
   ]
  }
 ],
 "metadata": {
  "interpreter": {
   "hash": "63fd5069d213b44bf678585dea6b12cceca9941eaf7f819626cde1f2670de90d"
  },
  "kernelspec": {
   "display_name": "Python 3.9.7 64-bit",
   "name": "python3"
  },
  "language_info": {
   "codemirror_mode": {
    "name": "ipython",
    "version": 3
   },
   "file_extension": ".py",
   "mimetype": "text/x-python",
   "name": "python",
   "nbconvert_exporter": "python",
   "pygments_lexer": "ipython3",
   "version": "3.9.7"
  },
  "orig_nbformat": 4
 },
 "nbformat": 4,
 "nbformat_minor": 2
}
