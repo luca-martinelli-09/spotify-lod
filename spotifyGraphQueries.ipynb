{
 "cells": [
  {
   "cell_type": "markdown",
   "metadata": {},
   "source": [
    "# Spotify Graph Queries\n",
    "\n",
    "We perform ten queries on our Spotify database relying on ***SPARQLWrapper***."
   ]
  },
  {
   "cell_type": "markdown",
   "metadata": {},
   "source": [
    "## Setup\n",
    "\n",
    "We import all the necessary libraries and we set the URL needed by SPARQLWrapper"
   ]
  },
  {
   "cell_type": "code",
   "execution_count": null,
   "metadata": {},
   "outputs": [],
   "source": [
    "# Imports\n",
    "\n",
    "import pandas as pd\n",
    "from pandas import json_normalize\n",
    "from SPARQLWrapper import SPARQLWrapper, JSON"
   ]
  },
  {
   "cell_type": "code",
   "execution_count": null,
   "metadata": {},
   "outputs": [],
   "source": [
    "SPOTIFY_ONTOLOGY = \"https://www.dei.unipd.it/~martinelli/spotify/spotifyOntology#\"\n",
    "REPOSITORY_NAME = \"eu\"\n",
    "\n",
    "SPARQL_ENDPOINT = \"http://localhost:7200/repositories/\" + REPOSITORY_NAME\n",
    "\n",
    "sparql = SPARQLWrapper(SPARQL_ENDPOINT)\n"
   ]
  },
  {
   "cell_type": "markdown",
   "metadata": {},
   "source": [
    "## Query utilities\n",
    "We define a function to perform a SPARQL query"
   ]
  },
  {
   "cell_type": "code",
   "execution_count": null,
   "metadata": {},
   "outputs": [],
   "source": [
    "# Execute a SPARQL query and return a DataFrame\n",
    "def executeQuery(query, maxRows=None):\n",
    "    global sparql\n",
    "\n",
    "    # Set the number of rows and columns to display\n",
    "    pd.set_option(\"display.max_rows\", maxRows, \"display.max_columns\", None)\n",
    "\n",
    "    # Set the query\n",
    "    sparql.setQuery(\"\"\"\n",
    "            prefix so: <https://www.dei.unipd.it/~martinelli/spotify/spotifyOntology#>\n",
    "            prefix countries: <http://eulersharp.sourceforge.net/2003/03swap/countries#>\n",
    "            prefix xsd: <http://www.w3.org/2001/XMLSchema#>\n",
    "\n",
    "            {query}\n",
    "        \"\"\".format(query=query))\n",
    "\n",
    "    # Set the result format\n",
    "    sparql.setReturnFormat(JSON)\n",
    "\n",
    "    # Execute the query\n",
    "    results = sparql.query().convert()\n",
    "\n",
    "    # If it is an ask\n",
    "    if \"boolean\" in results.keys():\n",
    "        return results[\"boolean\"], \"ask\"\n",
    "    \n",
    "    # If it is a select\n",
    "    if \"results\" in results.keys():\n",
    "        # Create a DataFrame from the returned JSON\n",
    "        resultDF = json_normalize(results[\"results\"][\"bindings\"])\n",
    "\n",
    "        # Remove the datadtypes columns\n",
    "        resultDF = resultDF[[col for col in resultDF.columns if not col.endswith(\n",
    "            \".type\") and not col.endswith(\".datatype\")]]\n",
    "\n",
    "        # Remove .value from column names\n",
    "        resultDF = resultDF.rename(columns=lambda col: col.replace(\".value\", \"\"))\n",
    "\n",
    "        # Remove the spotify ontology prefix from uris (to get only the ID)\n",
    "        resultDF = resultDF.applymap(lambda x: str(x).lstrip(SPOTIFY_ONTOLOGY))\n",
    "\n",
    "        return resultDF, \"select\"\n",
    "    \n",
    "    return None\n"
   ]
  },
  {
   "cell_type": "markdown",
   "metadata": {},
   "source": [
    "We define a function to print the result of a query"
   ]
  },
  {
   "cell_type": "code",
   "execution_count": null,
   "metadata": {},
   "outputs": [],
   "source": [
    "def printResult(result, resultType):\n",
    "    if resultType == \"select\":\n",
    "        print(\"🗃️ [[RESULT]]\\n\")\n",
    "        result\n",
    "\n",
    "    if resultType == \"ask\":\n",
    "        print(\"🎱 [[ANSWER]]\\n\")\n",
    "        print(\"✔️ Yes\" if result else \"❌ No\")\n"
   ]
  },
  {
   "cell_type": "markdown",
   "metadata": {},
   "source": [
    "## Queries\n",
    "\n",
    "#### Query 1: On average how many artist of a specific nationality are in the top 100 of the same country ?\n"
   ]
  },
  {
   "cell_type": "code",
   "execution_count": null,
   "metadata": {},
   "outputs": [],
   "source": [
    "result, resultType = executeQuery(\"\"\"\n",
    "SELECT ?country (xsd:integer(AVG(?num_artists)) AS ?avg_num_artists) WHERE {\n",
    "\t{\n",
    "\t\tSELECT ?date ?country (COUNT(DISTINCT ?artist) AS ?num_artists) WHERE{\n",
    "            ?person \t\tso:isMemberOf ?artist ;\n",
    "                    \t\tso:hasNationality ?country.\n",
    "            ?artist \t\tso:partecipateIn ?track ;\n",
    "                    \t\tso:name ?name.\n",
    "            ?track \t\t\tso:appearsIn ?appeareance .\n",
    "            ?appeareance \tso:isPositionedIn ?chart .\n",
    "            ?chart \t\t\tso:isReferredTo ?country ;\n",
    "                   \t\t\tso:date ?date .   \n",
    "    \t}\n",
    "    \tGROUP BY ?date ?country\n",
    "\t}\n",
    "}\n",
    "GROUP BY ?country\n",
    "ORDER BY DESC(?avg_num_artists)\n",
    "\"\"\")\n",
    "\n",
    "printResult(result, resultType)"
   ]
  }
 ],
 "metadata": {
  "interpreter": {
   "hash": "63fd5069d213b44bf678585dea6b12cceca9941eaf7f819626cde1f2670de90d"
  },
  "kernelspec": {
   "display_name": "Python 3.9.7 64-bit",
   "language": "python",
   "name": "python3"
  },
  "language_info": {
   "codemirror_mode": {
    "name": "ipython",
    "version": 3
   },
   "file_extension": ".py",
   "mimetype": "text/x-python",
   "name": "python",
   "nbconvert_exporter": "python",
   "pygments_lexer": "ipython3",
   "version": "3.9.8"
  },
  "orig_nbformat": 4
 },
 "nbformat": 4,
 "nbformat_minor": 2
}
