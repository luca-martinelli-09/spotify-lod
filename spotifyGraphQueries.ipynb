{
 "cells": [
  {
   "cell_type": "code",
   "execution_count": null,
   "metadata": {},
   "outputs": [],
   "source": [
    "# Imports\n",
    "\n",
    "import pandas as pd\n",
    "from pandas import json_normalize\n",
    "from SPARQLWrapper import SPARQLWrapper, JSON"
   ]
  },
  {
   "cell_type": "markdown",
   "metadata": {},
   "source": [
    "# Setup"
   ]
  },
  {
   "cell_type": "code",
   "execution_count": null,
   "metadata": {},
   "outputs": [],
   "source": [
    "SPOTIFY_ONTOLOGY = \"https://www.dei.unipd.it/~martinelli/spotify/spotifyOntology#\"\n",
    "SPARQL_ENDPOINT = \"http://localhost:7200/repositories/eu\"\n",
    "\n",
    "sparql = SPARQLWrapper(SPARQL_ENDPOINT)\n"
   ]
  },
  {
   "cell_type": "markdown",
   "metadata": {},
   "source": [
    "## Query utilities"
   ]
  },
  {
   "cell_type": "code",
   "execution_count": null,
   "metadata": {},
   "outputs": [],
   "source": [
    "# Execute a SPARQL query and return a DataFrame\n",
    "def executeQuery(query, maxRows=None):\n",
    "    global sparql\n",
    "\n",
    "    # Set the number of rows and columns to display\n",
    "    pd.set_option(\"display.max_rows\", maxRows, \"display.max_columns\", None)\n",
    "\n",
    "    # Set the query\n",
    "    sparql.setQuery(query)\n",
    "\n",
    "    # Set the result format\n",
    "    sparql.setReturnFormat(JSON)\n",
    "\n",
    "    # Execute the query\n",
    "    results = sparql.query().convert()\n",
    "\n",
    "    # Create a DataFrame from the returned JSON\n",
    "    resultDF = json_normalize(results[\"results\"][\"bindings\"])\n",
    "\n",
    "    # Remove the datadtypes columns\n",
    "    resultDF = resultDF[[col for col in resultDF.columns if not col.endswith(\n",
    "        \".type\") and not col.endswith(\".datatype\")]]\n",
    "\n",
    "    # Remove .value from column names\n",
    "    resultDF = resultDF.rename(columns=lambda col: col.replace(\".value\", \"\"))\n",
    "\n",
    "    # Remove the spotify ontology prefix from uris (to get only the ID)\n",
    "    resultDF = resultDF.applymap(lambda x: str(x).lstrip(SPOTIFY_ONTOLOGY))\n",
    "\n",
    "    return resultDF\n"
   ]
  },
  {
   "cell_type": "markdown",
   "metadata": {},
   "source": [
    "# Queries"
   ]
  },
  {
   "cell_type": "code",
   "execution_count": null,
   "metadata": {},
   "outputs": [],
   "source": [
    "executeQuery(\"\"\"\n",
    "    PREFIX so: <https://www.dei.unipd.it/~martinelli/spotify/spotifyOntology#>\n",
    "    PREFIX xsd: <http://www.w3.org/2001/XMLSchema#>\n",
    "\n",
    "    select distinct ?track ?trackName ?danceability (group_concat(distinct(?genreName); separator=\", \") as ?genresNames) (group_concat(distinct(?artistName); separator=\", \") as ?artistNames) (group_concat(distinct(?artistRealCompleteName); separator=\", \") as ?artistRealNames) where { \n",
    "        ?track a so:Track ;\n",
    "            so:danceability ?danceability ;\n",
    "            so:name ?trackName .\n",
    "        ?artist a so:Artist ;\n",
    "                so:partecipateIn ?track ;\n",
    "                so:name ?artistName ;\n",
    "                so:hasGenre ?genre .\n",
    "        ?genre a so:Genre ;\n",
    "            so:name ?genreName .\n",
    "        OPTIONAL {\n",
    "            ?artistPerson so:isMemberOf ?artist ;\n",
    "                so:name ?artistRealName ;\n",
    "                so:surname ?artistRealSurname .\n",
    "        } .\n",
    "        BIND(CONCAT(?artistRealName, \" \", ?artistRealSurname) AS ?artistRealCompleteName) .\n",
    "        FILTER (?danceability >= \"0.9\"^^xsd:float) .\n",
    "    } group by ?track ?trackName ?danceability order by desc(?danceability)\n",
    "\"\"\")"
   ]
  }
 ],
 "metadata": {
  "interpreter": {
   "hash": "63fd5069d213b44bf678585dea6b12cceca9941eaf7f819626cde1f2670de90d"
  },
  "kernelspec": {
   "display_name": "Python 3.9.7 64-bit",
   "language": "python",
   "name": "python3"
  },
  "language_info": {
   "codemirror_mode": {
    "name": "ipython",
    "version": 3
   },
   "file_extension": ".py",
   "mimetype": "text/x-python",
   "name": "python",
   "nbconvert_exporter": "python",
   "pygments_lexer": "ipython3",
   "version": "3.9.7"
  },
  "orig_nbformat": 4
 },
 "nbformat": 4,
 "nbformat_minor": 2
}
