{
 "cells": [
  {
   "cell_type": "markdown",
   "metadata": {},
   "source": [
    "# Spotify Graph Queries\n",
    "\n",
    "We perform ten queries on our Spotify database relying on ***SPARQLWrapper***."
   ]
  },
  {
   "cell_type": "markdown",
   "metadata": {},
   "source": [
    "## Setup\n",
    "\n",
    "We import all the necessary libraries and we set the URL needed by SPARQLWrapper"
   ]
  },
  {
   "cell_type": "code",
   "execution_count": null,
   "metadata": {},
   "outputs": [],
   "source": [
    "# Imports\n",
    "\n",
    "import pandas as pd\n",
    "from pandas import json_normalize\n",
    "from SPARQLWrapper import SPARQLWrapper, JSON"
   ]
  },
  {
   "cell_type": "code",
   "execution_count": null,
   "metadata": {},
   "outputs": [],
   "source": [
    "SPOTIFY_ONTOLOGY = \"https://www.dei.unipd.it/~martinelli/spotify/spotifyOntology#\"\n",
    "REPOSITORY_NAME = \"eu\"\n",
    "\n",
    "SPARQL_ENDPOINT = \"http://localhost:7200/repositories/\" + REPOSITORY_NAME\n",
    "\n",
    "sparql = SPARQLWrapper(SPARQL_ENDPOINT)\n"
   ]
  },
  {
   "cell_type": "markdown",
   "metadata": {},
   "source": [
    "## Query utilities\n",
    "We define a function to perform a SPARQL query"
   ]
  },
  {
   "cell_type": "code",
   "execution_count": null,
   "metadata": {},
   "outputs": [],
   "source": [
    "# Execute a SPARQL query and return a DataFrame\n",
    "def executeQuery(query, maxRows=None):\n",
    "    global sparql\n",
    "\n",
    "    # Set the number of rows and columns to display\n",
    "    pd.set_option(\"display.max_rows\", maxRows, \"display.max_columns\", None)\n",
    "\n",
    "    # Set the query\n",
    "    sparql.setQuery(\"\"\"\n",
    "            prefix so: <https://www.dei.unipd.it/~martinelli/spotify/spotifyOntology#>\n",
    "            prefix countries: <http://eulersharp.sourceforge.net/2003/03swap/countries#>\n",
    "            prefix xsd: <http://www.w3.org/2001/XMLSchema#>\n",
    "\n",
    "            {query}\n",
    "        \"\"\".format(query=query))\n",
    "\n",
    "    # Set the result format\n",
    "    sparql.setReturnFormat(JSON)\n",
    "\n",
    "    # Execute the query\n",
    "    results = sparql.query().convert()\n",
    "\n",
    "    # If it is an ask\n",
    "    if \"boolean\" in results.keys():\n",
    "        return results[\"boolean\"], \"ask\"\n",
    "    \n",
    "    # If it is a select\n",
    "    if \"results\" in results.keys():\n",
    "        # Create a DataFrame from the returned JSON\n",
    "        resultDF = json_normalize(results[\"results\"][\"bindings\"])\n",
    "\n",
    "        # Remove the datadtypes columns\n",
    "        resultDF = resultDF[[col for col in resultDF.columns if not col.endswith(\n",
    "            \".type\") and not col.endswith(\".datatype\")]]\n",
    "\n",
    "        # Remove .value from column names\n",
    "        resultDF = resultDF.rename(columns=lambda col: col.replace(\".value\", \"\"))\n",
    "\n",
    "        # Remove the spotify ontology prefix from uris (to get only the ID)\n",
    "        resultDF = resultDF.applymap(lambda x: str(x).lstrip(SPOTIFY_ONTOLOGY))\n",
    "\n",
    "        return resultDF, \"select\"\n",
    "    \n",
    "    return None\n"
   ]
  },
  {
   "cell_type": "markdown",
   "metadata": {},
   "source": [
    "We define a function to print the result of a query"
   ]
  },
  {
   "cell_type": "code",
   "execution_count": null,
   "metadata": {},
   "outputs": [],
   "source": [
    "def printResult(result, resultType):\n",
    "    if resultType == \"select\":\n",
    "        print(\"🗃️ [[RESULT]]\\n\")\n",
    "        result\n",
    "\n",
    "    if resultType == \"ask\":\n",
    "        print(\"🎱 [[ANSWER]]\\n\")\n",
    "        print(\"✔️ Yes\" if result else \"❌ No\")\n"
   ]
  },
  {
   "cell_type": "markdown",
   "metadata": {},
   "source": [
    "## Queries\n",
    "\n",
    "#### Query 1: On average how many artist of a specific nationality are in the top 100 of the same country ?\n"
   ]
  },
  {
   "cell_type": "code",
   "execution_count": null,
   "metadata": {},
   "outputs": [],
   "source": [
    "result, resultType = executeQuery(\"\"\"\n",
    "SELECT ?country (xsd:integer(AVG(?num_artists)) AS ?avg_num_artists) WHERE {\n",
    "\t{\n",
    "\t\tSELECT ?date ?country (COUNT(DISTINCT ?artist) AS ?num_artists) WHERE{\n",
    "            ?person \t\tso:isMemberOf ?artist ;\n",
    "                    \t\tso:hasNationality ?country.\n",
    "            ?artist \t\tso:partecipateIn ?track ;\n",
    "                    \t\tso:name ?name.\n",
    "            ?track \t\t\tso:appearsIn ?appeareance .\n",
    "            ?appeareance \tso:isPositionedIn ?chart .\n",
    "            ?chart \t\t\tso:isReferredTo ?country ;\n",
    "                   \t\t\tso:date ?date .   \n",
    "    \t}\n",
    "    \tGROUP BY ?date ?country\n",
    "\t}\n",
    "}\n",
    "GROUP BY ?country\n",
    "ORDER BY DESC(?avg_num_artists)\n",
    "\"\"\")\n",
    "\n",
    "printResult(result, resultType)"
   ]
  },
  {
   "cell_type": "markdown",
   "metadata": {},
   "source": [
    "#### Query 2: Show the 5 most popular young (less than 30 years) italian artist who published in 2018\n"
   ]
  },
  {
   "cell_type": "code",
   "execution_count": null,
   "metadata": {},
   "outputs": [],
   "source": [
    "result, resultType = executeQuery(\"\"\"\n",
    "SELECT DISTINCT ?artistName ?artistPopularity WHERE{\n",
    "    ?person so:isMemberOf ?artist ;\n",
    "            so:hasNationality countries:it ;\n",
    "            so:birthdate ?artistBirthdate .\n",
    "    ?artist so:partecipateIn ?track ;\n",
    "            so:name ?artistName ;\n",
    "    \t\tso:popularity ?artistPopularity .\n",
    "    ?track so:isPartOf ?album ;\n",
    "           so:name ?trackName .\n",
    "\t?album so:releaseDate ?date ;\n",
    "        \tso:name ?albumName .\n",
    "    FILTER ((?date >= \"2018-01-01\"^^xsd:date && ?date < \"2019-01-01\"^^xsd:date))\n",
    "    FILTER (?artistBirthdate >= \"1991-01-01\"^^xsd:date )\n",
    "}\n",
    "\"\"\")\n",
    "\n",
    "printResult(result, resultType)"
   ]
  },
  {
   "cell_type": "markdown",
   "metadata": {},
   "source": [
    "#### Query 3: Show the 30 genres with most danceable songs relative to songs released in 2019\n"
   ]
  },
  {
   "cell_type": "code",
   "execution_count": null,
   "metadata": {},
   "outputs": [],
   "source": [
    "result, resultType = executeQuery(\"\"\"\n",
    "    SELECT ?genre (AVG(?danceability) as ?avgDanceability) (COUNT(?track) as ?numTrack) WHERE{\n",
    "    ?artist so:partecipateIn ?track ;\n",
    "            so:name ?artistName ;\n",
    "            so:hasGenre ?genre .\n",
    "    ?track \tso:isPartOf ?album ;\n",
    "    \t\tso:name ?trackName ;\n",
    "    \t\tso:danceability ?danceability .\n",
    "\t?album \tso:releaseDate ?date ;\n",
    "        \tso:name ?albumName .\n",
    "    FILTER ((?date >= \"2019-01-01\"^^xsd:date && ?date < \"2020-01-01\"^^xsd:date))\n",
    "}\n",
    "GROUP BY ?genre\n",
    "HAVING (?numTrack > 100)\n",
    "ORDER BY DESC(?avgDanceability)\n",
    "LIMIT 30\n",
    "\"\"\")\n",
    "\n",
    "printResult(result, resultType)"
   ]
  },
  {
   "cell_type": "markdown",
   "metadata": {},
   "source": [
    "#### Query 4: In 2019 there was more distinct singles in top 100 Argentina or top 100 Italy ?"
   ]
  },
  {
   "cell_type": "code",
   "execution_count": null,
   "metadata": {},
   "outputs": [],
   "source": [
    "result, resultType = executeQuery(\"\"\"\n",
    "ASK WHERE{\n",
    "    {\n",
    "        SELECT (COUNT (DISTINCT ?track) as ?numSinglesAG) WHERE{\n",
    "            ?track so:isPartOf ?album ;\n",
    "             \t   so:name ?trackName ;\n",
    "    \t\t\t   so:appearsIn ?appearance .\n",
    "        \t?album so:isTypeOf so:single;\n",
    "                \tso:name ?albumName .\t\n",
    "        \t?appearance so:isPositionedIn ?chart .\n",
    "        \t?chart so:isReferredTo countries:ar ;\n",
    "                   so:date ?date .\n",
    "    \t\tFILTER ((?date >= \"2018-01-01\"^^xsd:date && ?date < \"2019-01-01\"^^xsd:date))\n",
    "\t\t}\n",
    "    }\n",
    "    {\n",
    "        SELECT (COUNT (DISTINCT ?track) as ?numSinglesIT) WHERE{\n",
    "            ?track so:isPartOf ?album ;\n",
    "             \t   so:name ?trackName ;\n",
    "    \t\t\t   so:appearsIn ?appearance .\n",
    "        \t?album so:isTypeOf so:single;\n",
    "                \tso:name ?albumName .\t\n",
    "        \t?appearance so:isPositionedIn ?chart .\n",
    "        \t?chart so:isReferredTo countries:it ;\n",
    "                   so:date ?date .\n",
    "    \t\tFILTER ((?date >= \"2018-01-01\"^^xsd:date && ?date < \"2019-01-01\"^^xsd:date))\n",
    "\t\t}\n",
    "    }\n",
    "    FILTER (?numSinglesAG > ?numSinglesIT)\n",
    "}\n",
    "\"\"\")\n",
    "\n",
    "printResult(result, resultType)"
   ]
  },
  {
   "cell_type": "markdown",
   "metadata": {},
   "source": [
    "#### Query5: How many times artist born after 2000 were present in top 100 Italy in 2020 ?"
   ]
  },
  {
   "cell_type": "code",
   "execution_count": null,
   "metadata": {},
   "outputs": [],
   "source": [
    "result, resultType = executeQuery(\"\"\"\n",
    "    select distinct ?trackName ?artistName ?completeName ?birthDate (count(?chartDate) as ?numAppearances) where { \n",
    "        ?track a so:Track ;\n",
    "            so:name ?trackName ;\n",
    "            so:appearsIn ?appearance .\n",
    "        ?artist a so:Artist ;\n",
    "                so:partecipateIn ?track ;\n",
    "                so:name ?artistName .\n",
    "        ?artistPerson so:isMemberOf ?artist ;\n",
    "                    so:name ?realName ;\n",
    "                    so:surname ?realSurname ;\n",
    "                    so:birthdate ?birthDate ;\n",
    "                    so:deathdate ?deathDate .\n",
    "        ?appearance a so:Appearance ;\n",
    "                    so:isPositionedIn ?chart.\n",
    "        ?chart a so:Chart;\n",
    "            so:isReferredTo countries:it ;\n",
    "            so:date ?chartDate ;\n",
    "            so:name ?chartName .\n",
    "        BIND(CONCAT(?realName, \" \", ?realSurname) AS ?completeName) .\n",
    "        FILTER(?birthDate >= \"2000-01-01\"^^xsd:date) .\n",
    "        FILTER(?chartDate > \"2020-01-01\"^^xsd:date) .\n",
    "    } group by ?trackName ?artistName ?completeName ?birthDate\n",
    "\"\"\")\n",
    "\n",
    "printResult(result, resultType)"
   ]
  },
  {
   "cell_type": "markdown",
   "metadata": {},
   "source": [
    "#### Query 6: Show average energy of tracks through the months of the year\n"
   ]
  },
  {
   "cell_type": "code",
   "execution_count": null,
   "metadata": {},
   "outputs": [],
   "source": [
    "result, resultType = executeQuery(\"\"\"\n",
    "select ?month (avg(?energy) as ?res) where {\n",
    "    ?track a so:Track ;\n",
    "           so:appearsIn ?appearance ;\n",
    "           so:explicit ?explicit ;\n",
    "           so:danceability ?danceability ;\n",
    "           so:energy ?energy ;\n",
    "           so:valence ?valence ;\n",
    "           so:loudness ?loudness ;\n",
    "           so:mode ?mode ;\n",
    "           so:key ?key .\n",
    "    ?appearance so:isPositionedIn ?chart ;\n",
    "                so:position ?position .\n",
    "    ?chart so:date ?date ;\n",
    "           so:isReferredTo countries:it .\n",
    "    \n",
    "    # filter(?position <= \"10\"^^xsd:int) .\n",
    "    \n",
    "    bind(month(?date) as ?month)\n",
    "    \n",
    "    # filter(month(?date) <= \"3\"^^xsd:integer || month(?date) >= \"10\"^^xsd:integer) .\n",
    "    # filter(month(?date) < \"10\"^^xsd:integer || month(?date) > \"3\"^^xsd:integer) .\n",
    "} group by ?month order by asc(?month)\n",
    "\"\"\")\n",
    "\n",
    "printResult(result, resultType)"
   ]
  },
  {
   "cell_type": "markdown",
   "metadata": {},
   "source": [
    "#### Query 7 : How many albums (at least 2) contains the same track ?"
   ]
  },
  {
   "cell_type": "code",
   "execution_count": null,
   "metadata": {},
   "outputs": [],
   "source": [
    "result, resultType = executeQuery(\"\"\"\n",
    "select ?trackNameWithArtists (group_concat( distinct ?albumName; separator=\", \") as ?albums) (count(distinct ?album) as ?albumCount) where {\n",
    "    {\n",
    "        select ?track ?trackName ?albumType ?album ?albumName (group_concat(?artistName; separator=\", \") as ?artists) where {\n",
    "            ?track a so:Track ;\n",
    "                   so:name ?trackName ;\n",
    "                   so:isPartOf ?album .\n",
    "            ?album so:isTypeOf ?albumType ;\n",
    "                   so:name ?albumName .\n",
    "            ?artist so:partecipateIn ?track ;\n",
    "                    so:name ?artistName .\n",
    "        } group by ?track ?trackName ?albumType ?album ?albumName\n",
    "    } .\n",
    "\n",
    "    bind(concat(?trackName, \" (\", ?artists, \")\") as ?trackNameWithArtists) .\n",
    "} group by ?trackNameWithArtists\n",
    "having (count(distinct ?album) > 1)\n",
    "order by desc(?albumCount)\n",
    "\"\"\")\n",
    "\n",
    "printResult(result, resultType)"
   ]
  },
  {
   "cell_type": "markdown",
   "metadata": {},
   "source": [
    "#### Query 8 : Show if there is a correlation between number of explicit songs and available markets"
   ]
  },
  {
   "cell_type": "code",
   "execution_count": null,
   "metadata": {},
   "outputs": [],
   "source": [
    "result, resultType = executeQuery(\"\"\"\n",
    "SELECT ?numMarkets (COUNT(?track) AS ?numExplicit) WHERE{\n",
    "    ?track so:explicit ?explicit\n",
    "    {  SELECT ?track (COUNT(DISTINCT ?country) AS ?numMarkets) WHERE{\n",
    "            ?artist so:partecipateIn ?track ;\n",
    "                    so:name ?artistName .\n",
    "            ?track \tso:isPartOf ?album ;\n",
    "                    so:name ?trackName ;\n",
    "                    so:isAvailableIn ?country ;\n",
    "                    so:explicit \"true\"^^xsd:boolean .\n",
    "        }\n",
    "        GROUP BY ?track\n",
    "    }\n",
    "}\n",
    "GROUP BY ?numMarkets\n",
    "ORDER BY ASC(?numMarkets)\n",
    "\"\"\")\n",
    "\n",
    "printResult(result, resultType)"
   ]
  },
  {
   "cell_type": "markdown",
   "metadata": {},
   "source": [
    "#### Query 9 : How many songs from Japan or South Korea reaches Top 20 in US, Canada or Mexico?"
   ]
  },
  {
   "cell_type": "code",
   "execution_count": null,
   "metadata": {},
   "outputs": [],
   "source": [
    "result, resultType = executeQuery(\"\"\"\n",
    "SELECT ?chartCountry ( COUNT (DISTINCT ?track) AS ?numTracks ) WHERE{\n",
    "    ?person so:isMemberOf ?artist ;\n",
    "            so:hasNationality ?originCountry .\n",
    "    ?artist so:partecipateIn ?track ;\n",
    "            so:name ?artistName .\n",
    "    ?track so:name ?trackName ;\n",
    "           so:appearsIn ?appeareance .\n",
    "    ?appeareance so:isPositionedIn ?chart ;\n",
    "                 so:position ?pos.\n",
    "    ?chart so:isReferredTo ?chartCountry .\n",
    "    FILTER (?originCountry = countries:jp || ?originCountry = countries:kr)\n",
    "    FILTER (?chartCountry = countries:us || ?chartCountry = countries:mx || ?chartCountry = countries:ca)\n",
    "    FILTER (?pos <= 20)\n",
    "}\n",
    "GROUP BY ?chartCountry\n",
    "ORDER BY DESC(?numTracks)\n",
    "\"\"\")\n",
    "\n",
    "printResult(result, resultType)"
   ]
  },
  {
   "cell_type": "markdown",
   "metadata": {},
   "source": [
    "#### Query 10: Show the 30 albums with the most high number of songs present in Top 30 at the same time. Show also how many tracks are contained in the album."
   ]
  },
  {
   "cell_type": "code",
   "execution_count": null,
   "metadata": {},
   "outputs": [],
   "source": [
    "result, resultType = executeQuery(\"\"\"\n",
    "    SELECT ?chartName ?chartDate ?albumName ?num_track ?totalTracks WHERE{\n",
    "    {\t?chart  so:name ?chartName ;\n",
    "             \tso:date ?chartDate .\n",
    "        ?album\tso:name ?albumName ;\n",
    "        \t\tso:totalTracks ?totalTracks .\n",
    "    }\n",
    "    {\n",
    "        SELECT ?chart ?album (COUNT(DISTINCT ?track) AS ?num_track) WHERE{\n",
    "            ?artist \t\tso:partecipateIn ?track .               \n",
    "            ?track \t\t\tso:isPartOf ?album ;\n",
    "                            so:appearsIn ?appereance .\n",
    "            ?appereance \tso:isPositionedIn ?chart ;\n",
    "                            so:position ?pos .\n",
    "            FILTER (?pos < 30)\n",
    "        }\n",
    "        GROUP BY ?chart ?album\n",
    "        ORDER BY DESC(?num_track)\n",
    "        LIMIT 30\n",
    "    }    \n",
    "}\n",
    "\"\"\")\n",
    "\n",
    "printResult(result, resultType)"
   ]
  }
 ],
 "metadata": {
  "interpreter": {
   "hash": "63fd5069d213b44bf678585dea6b12cceca9941eaf7f819626cde1f2670de90d"
  },
  "kernelspec": {
   "display_name": "Python 3.9.7 64-bit",
   "language": "python",
   "name": "python3"
  },
  "language_info": {
   "codemirror_mode": {
    "name": "ipython",
    "version": 3
   },
   "file_extension": ".py",
   "mimetype": "text/x-python",
   "name": "python",
   "nbconvert_exporter": "python",
   "pygments_lexer": "ipython3",
   "version": "3.9.8"
  },
  "orig_nbformat": 4
 },
 "nbformat": 4,
 "nbformat_minor": 2
}
