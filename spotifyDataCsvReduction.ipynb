{
 "cells": [
  {
   "cell_type": "code",
   "execution_count": null,
   "metadata": {},
   "outputs": [],
   "source": [
    "# Imports\n",
    "\n",
    "import os\n",
    "from pathlib import Path\n",
    "import pandas as pd\n",
    "from datetime import datetime, timedelta"
   ]
  },
  {
   "cell_type": "markdown",
   "metadata": {},
   "source": [
    "# Setup"
   ]
  },
  {
   "cell_type": "code",
   "execution_count": null,
   "metadata": {},
   "outputs": [],
   "source": [
    "# Get absolute path\n",
    "absPath = str(Path(os.path.abspath(os.getcwd())).absolute())\n",
    "datasetsPath = absPath + \"/datasets\"\n",
    "\n",
    "# Create dataset directory if not exists\n",
    "if not os.path.exists(datasetsPath):\n",
    "    os.mkdir(datasetsPath)\n",
    "\n",
    "# Setup datasets paths\n",
    "spotifyChartsPath = os.path.join(datasetsPath, \"spotifyCharts.csv\")\n",
    "spotifyReducedChartsPath = os.path.join(datasetsPath, \"/reducedSpotifyCharts.csv\")\n"
   ]
  },
  {
   "cell_type": "markdown",
   "metadata": {},
   "source": [
    "## Get tracks"
   ]
  },
  {
   "cell_type": "code",
   "execution_count": null,
   "metadata": {},
   "outputs": [],
   "source": [
    "# Load Spotify Charts\n",
    "trackCharts = pd.read_csv(spotifyChartsPath, sep=\",\")\n",
    "\n",
    "# Drop NaN columns\n",
    "trackCharts = trackCharts.dropna()\n",
    "\n",
    "# Print track charts info\n",
    "trackCharts.info()\n"
   ]
  },
  {
   "cell_type": "code",
   "execution_count": null,
   "metadata": {},
   "outputs": [],
   "source": [
    "# Get only uris\n",
    "spotifyTrackLinks = pd.DataFrame(trackCharts[\"uri\"].drop_duplicates())\n",
    "\n",
    "# Print tracks uris info\n",
    "spotifyTrackLinks.info()\n"
   ]
  },
  {
   "cell_type": "code",
   "execution_count": null,
   "metadata": {},
   "outputs": [],
   "source": [
    "trackCharts[\"date\"].drop_duplicates()"
   ]
  },
  {
   "cell_type": "markdown",
   "metadata": {},
   "source": [
    "# Un sample a Settimana"
   ]
  },
  {
   "cell_type": "code",
   "execution_count": null,
   "metadata": {},
   "outputs": [],
   "source": [
    "reducedTrackCharts = pd.DataFrame()\n",
    "\n",
    "#Starting and final date in the csv\n",
    "firstDateStr = '01/01/2017'\n",
    "endDateStr = '05/11/2020'\n",
    "\n",
    "#Initialize for the while\n",
    "actualDateStr = firstDateStr\n",
    "actualDateObj = datetime.strptime(actualDateStr, \"%d/%m/%Y\").date()\n",
    "endDateObj = datetime.strptime(endDateStr, \"%d/%m/%Y\").date()\n",
    "\n",
    "while(actualDateObj < endDateObj):\n",
    "  \n",
    "    reducedTrackCharts = pd.concat([reducedTrackCharts, trackCharts.loc[trackCharts['date'] == actualDateStr]])\n",
    "\n",
    "    print(reducedTrackCharts)\n",
    "   \n",
    "    actualDateObj = actualDateObj + timedelta(days=7)\n",
    "    actualDateStr = actualDateObj.strftime(\"%d/%m/%Y\")\n"
   ]
  },
  {
   "cell_type": "code",
   "execution_count": null,
   "metadata": {},
   "outputs": [],
   "source": [
    "# Get only uris\n",
    "spotifyTrackLinks = pd.DataFrame(reducedTrackCharts[\"uri\"].drop_duplicates())\n",
    "\n",
    "# Print tracks uris info\n",
    "spotifyTrackLinks.info()"
   ]
  },
  {
   "cell_type": "markdown",
   "metadata": {},
   "source": [
    "# Un solo sample al mese"
   ]
  },
  {
   "cell_type": "code",
   "execution_count": null,
   "metadata": {},
   "outputs": [],
   "source": [
    "reducedTrackCharts = pd.DataFrame()\n",
    "\n",
    "#Starting and final date in the csv\n",
    "firstDateStr = '01/01/2017'\n",
    "endDateStr = '05/11/2020'\n",
    "\n",
    "#Initialize for the while\n",
    "actualDateStr = firstDateStr\n",
    "actualDateObj = datetime.strptime(actualDateStr, \"%d/%m/%Y\").date()\n",
    "endDateObj = datetime.strptime(endDateStr, \"%d/%m/%Y\").date()\n",
    "\n",
    "while(actualDateObj < endDateObj):\n",
    "  \n",
    "    reducedTrackCharts = pd.concat([reducedTrackCharts, trackCharts.loc[trackCharts['date'] == actualDateStr]])\n",
    "\n",
    "    print(reducedTrackCharts)\n",
    "   \n",
    "    actualDateObj = actualDateObj + timedelta(days=30)\n",
    "    actualDateStr = actualDateObj.strftime(\"%d/%m/%Y\")\n"
   ]
  },
  {
   "cell_type": "code",
   "execution_count": null,
   "metadata": {},
   "outputs": [],
   "source": [
    "reducedTrackCharts.info()\n",
    "\n",
    "# Get only uris\n",
    "spotifyTrackLinks = pd.DataFrame(reducedTrackCharts[\"uri\"].drop_duplicates())\n",
    "\n",
    "# Print tracks uris info\n",
    "spotifyTrackLinks.info()"
   ]
  },
  {
   "cell_type": "markdown",
   "metadata": {},
   "source": [
    "# Un sample a settimana ma solo top 50"
   ]
  },
  {
   "cell_type": "code",
   "execution_count": null,
   "metadata": {},
   "outputs": [],
   "source": [
    "reducedTrackCharts = pd.DataFrame()\n",
    "\n",
    "#Starting and final date in the csv\n",
    "firstDateStr = '01/01/2017'\n",
    "endDateStr = '05/11/2020'\n",
    "\n",
    "#Initialize for the while\n",
    "actualDateStr = firstDateStr\n",
    "actualDateObj = datetime.strptime(actualDateStr, \"%d/%m/%Y\").date()\n",
    "endDateObj = datetime.strptime(endDateStr, \"%d/%m/%Y\").date()\n",
    "\n",
    "while(actualDateObj < endDateObj):\n",
    "  \n",
    "    reducedTrackCharts = pd.concat([reducedTrackCharts, trackCharts.loc[(trackCharts['date'] == actualDateStr) & (trackCharts['position']<= 50)]])\n",
    "\n",
    "    print(reducedTrackCharts)\n",
    "   \n",
    "    actualDateObj = actualDateObj + timedelta(days=7)\n",
    "    \n",
    "    actualDateStr = actualDateObj.strftime(\"%d/%m/%Y\")"
   ]
  },
  {
   "cell_type": "code",
   "execution_count": null,
   "metadata": {},
   "outputs": [],
   "source": [
    "reducedTrackCharts.info()\n",
    "\n",
    "# Get only uris\n",
    "spotifyTrackLinks = pd.DataFrame(reducedTrackCharts[\"uri\"].drop_duplicates())\n",
    "\n",
    "# Print tracks uris info\n",
    "spotifyTrackLinks.info()"
   ]
  },
  {
   "cell_type": "markdown",
   "metadata": {},
   "source": [
    "# Un sample a settimana ma top 100"
   ]
  },
  {
   "cell_type": "code",
   "execution_count": null,
   "metadata": {},
   "outputs": [],
   "source": [
    "reducedTrackCharts = pd.DataFrame()\n",
    "\n",
    "#Starting and final date in the csv\n",
    "firstDateStr = '01/01/2017'\n",
    "endDateStr = '05/11/2020'\n",
    "\n",
    "#Initialize for the while\n",
    "actualDateStr = firstDateStr\n",
    "actualDateObj = datetime.strptime(actualDateStr, \"%d/%m/%Y\").date()\n",
    "endDateObj = datetime.strptime(endDateStr, \"%d/%m/%Y\").date()\n",
    "\n",
    "while(actualDateObj < endDateObj):\n",
    "  \n",
    "    reducedTrackCharts = pd.concat([reducedTrackCharts, trackCharts.loc[(trackCharts['date'] == actualDateStr) & (trackCharts['position']<= 100)]])\n",
    "\n",
    "    print(reducedTrackCharts)\n",
    "   \n",
    "    actualDateObj = actualDateObj + timedelta(days=7)\n",
    "    \n",
    "    actualDateStr = actualDateObj.strftime(\"%d/%m/%Y\")"
   ]
  },
  {
   "cell_type": "code",
   "execution_count": null,
   "metadata": {},
   "outputs": [],
   "source": [
    "reducedTrackCharts.info()\n",
    "\n",
    "# Get only uris\n",
    "spotifyTrackLinks = pd.DataFrame(reducedTrackCharts[\"uri\"].drop_duplicates())\n",
    "\n",
    "# Print tracks uris info\n",
    "spotifyTrackLinks.info()"
   ]
  },
  {
   "cell_type": "code",
   "execution_count": null,
   "metadata": {},
   "outputs": [],
   "source": [
    "reducedTrackCharts.info()\n",
    "\n",
    "reducedTrackChartsPath = datasetsPath + \"/reducedSpotifyCharts.csv\"\n",
    "\n",
    "reducedTrackCharts.to_csv(reducedTrackChartsPath)"
   ]
  }
 ],
 "metadata": {
  "interpreter": {
   "hash": "63fd5069d213b44bf678585dea6b12cceca9941eaf7f819626cde1f2670de90d"
  },
  "kernelspec": {
   "display_name": "Python 3.9.7 64-bit",
   "name": "python3"
  },
  "language_info": {
   "codemirror_mode": {
    "name": "ipython",
    "version": 3
   },
   "file_extension": ".py",
   "mimetype": "text/x-python",
   "name": "python",
   "nbconvert_exporter": "python",
   "pygments_lexer": "ipython3",
   "version": "3.9.7"
  },
  "orig_nbformat": 4
 },
 "nbformat": 4,
 "nbformat_minor": 2
}
