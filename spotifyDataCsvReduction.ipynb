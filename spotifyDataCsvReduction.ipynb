{
 "cells": [
  {
   "cell_type": "code",
   "execution_count": null,
   "metadata": {},
   "outputs": [],
   "source": [
    "# Imports\n",
    "\n",
    "import os\n",
    "import time\n",
    "from pathlib import Path\n",
    "import pandas as pd\n",
    "import json\n",
    "import spotifyCredentials\n",
    "import requests\n",
    "import base64"
   ]
  },
  {
   "cell_type": "markdown",
   "metadata": {},
   "source": [
    "# Setup"
   ]
  },
  {
   "cell_type": "code",
   "execution_count": null,
   "metadata": {},
   "outputs": [],
   "source": [
    "# Get absolute path\n",
    "absPath = str(Path(os.path.abspath(os.getcwd())).absolute())\n",
    "datasetsPath = absPath + \"/datasets\"\n",
    "\n",
    "# Create dataset directory if not exists\n",
    "if not os.path.exists(datasetsPath):\n",
    "    os.mkdir(datasetsPath)\n",
    "\n",
    "# Setup datasets paths\n",
    "genresPath = datasetsPath + \"/genres.csv\"\n",
    "tracksPath = datasetsPath + \"/tracks.csv\"\n",
    "albumsPath = datasetsPath + \"/albums.csv\"\n",
    "artistsPath = datasetsPath + \"/artists.csv\"\n",
    "peoplePath = datasetsPath + \"/people.csv\""
   ]
  },
  {
   "cell_type": "markdown",
   "metadata": {},
   "source": [
    "## Get tracks"
   ]
  },
  {
   "cell_type": "code",
   "execution_count": null,
   "metadata": {},
   "outputs": [],
   "source": [
    "# Load Spotify Charts\n",
    "trackCharts = pd.read_csv(os.path.join(datasetsPath, \"spotifyCharts.csv\"), sep=\",\")\n",
    "\n",
    "# Drop NaN columns\n",
    "trackCharts = trackCharts.dropna()\n",
    "\n",
    "# Print track charts info\n",
    "trackCharts.info()"
   ]
  },
  {
   "cell_type": "code",
   "execution_count": null,
   "metadata": {},
   "outputs": [],
   "source": [
    "# Get only uris\n",
    "spotifyTrackLinks = pd.DataFrame(trackCharts[\"uri\"].drop_duplicates())\n",
    "\n",
    "# Print tracks uris info\n",
    "spotifyTrackLinks.info()\n"
   ]
  }
 ],
 "metadata": {
  "interpreter": {
   "hash": "63fd5069d213b44bf678585dea6b12cceca9941eaf7f819626cde1f2670de90d"
  },
  "kernelspec": {
   "display_name": "Python 3.9.7 64-bit",
   "name": "python3"
  },
  "language_info": {
   "codemirror_mode": {
    "name": "ipython",
    "version": 3
   },
   "file_extension": ".py",
   "mimetype": "text/x-python",
   "name": "python",
   "nbconvert_exporter": "python",
   "pygments_lexer": "ipython3",
   "version": "3.8.3"
  },
  "orig_nbformat": 4
 },
 "nbformat": 4,
 "nbformat_minor": 2
}
