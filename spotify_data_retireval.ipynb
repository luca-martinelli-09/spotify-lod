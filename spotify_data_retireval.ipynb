{
 "cells": [
  {
   "cell_type": "code",
   "execution_count": 1,
   "metadata": {},
   "outputs": [],
   "source": [
    "# Imports\n",
    "\n",
    "import os\n",
    "from pathlib import Path\n",
    "import pandas as pd\n",
    "import spotifyCredentials\n",
    "import requests\n",
    "import base64"
   ]
  },
  {
   "cell_type": "code",
   "execution_count": 4,
   "metadata": {},
   "outputs": [],
   "source": [
    "# Set paths\n",
    "\n",
    "absPath = str(Path(os.path.abspath(os.getcwd())).absolute())\n",
    "datasetsPath = absPath + \"/datasets\""
   ]
  },
  {
   "cell_type": "markdown",
   "metadata": {},
   "source": [
    "# Spotify API Functions"
   ]
  },
  {
   "cell_type": "code",
   "execution_count": 31,
   "metadata": {},
   "outputs": [],
   "source": [
    "# Spotify credentials to get access token to Spotify API\n",
    "\n",
    "SPOTIFY_CLIENT_ID = spotifyCredentials.SPOTIFY_CLIENT_ID\n",
    "SPOTIFY_SECRET_ID = spotifyCredentials.SPOTIFY_SECRET_ID\n",
    "SPOTIFY_REFRESH_TOKEN = spotifyCredentials.SPOTIFY_REFRESH_TOKEN"
   ]
  },
  {
   "cell_type": "code",
   "execution_count": 32,
   "metadata": {},
   "outputs": [
    {
     "name": "stdout",
     "output_type": "stream",
     "text": [
      "Auth Token is BQCKij7wWcFkefQLJHQ3_47y9WIv5cNHOwftx0vli7Xe-6JhKbofee7wLeP9J660f2aIhSCQlkKEAVS4-TL0TAjBIjJeO8oWIcOLVrMlFGQxftT_dbUR6siInPVcm4DytqiV4xqlc1YqdNfVIqrdEGiPNOo3gOQNCMu6l6lGpHt7CUzWIR3-hSHAlmmxn2yuyrgy67SI8B1BCVaTjq8n7lusriVgXAXSLugbQGpr4omiqlDV1gg_JSOBkKugVvtiwb0yChny7oGcgEOnR7Jg4TQf4uFLySXUyLEXCKxGvw\n"
     ]
    }
   ],
   "source": [
    "# Function to get the Spotify API Access Token\n",
    "def getAccessToken():\n",
    "    # Spotify Basic Authorization Code\n",
    "    authBasic = base64.b64encode(\"{}:{}\".format(SPOTIFY_CLIENT_ID, SPOTIFY_SECRET_ID).encode()).decode()\n",
    "\n",
    "    # Request to get Access Token from Client ID and Secret ID\n",
    "    accessTokenRequest = requests.post(\"https://accounts.spotify.com/api/token\",\n",
    "        data={\n",
    "            \"grant_type\":\"refresh_token\",\n",
    "            \"refresh_token\":SPOTIFY_REFRESH_TOKEN\n",
    "        },\n",
    "        headers={\n",
    "            \"Authorization\": \"Basic \" + authBasic\n",
    "        }\n",
    "    )\n",
    "\n",
    "    # Get Access Token\n",
    "    accessToken = None\n",
    "\n",
    "    if accessTokenRequest.status_code == 200:\n",
    "        accessToken = accessTokenRequest.json()[\"access_token\"]\n",
    "\n",
    "    return accessToken\n",
    "\n",
    "accessToken = getAccessToken()\n",
    "print(\"Auth Token is {}\".format(accessToken))"
   ]
  },
  {
   "cell_type": "code",
   "execution_count": 41,
   "metadata": {},
   "outputs": [],
   "source": [
    "# Function to get all available Genres from Spotify API\n",
    "def getAllGenres(fromError=False):\n",
    "    global accessToken\n",
    "\n",
    "    availableGenresRequest = requests.get(\"https://api.spotify.com/v1/recommendations/available-genre-seeds\",\n",
    "        headers={\n",
    "            \"Authorization\": \"Bearer \" + accessToken\n",
    "        })\n",
    "\n",
    "    if availableGenresRequest.status_code == 200:\n",
    "        return availableGenresRequest.json()\n",
    "    elif availableGenresRequest.status_code == 401 and fromError is False:\n",
    "        accessToken = getAccessToken()\n",
    "        return getAllGenres(fromError=True)\n",
    "    else:\n",
    "        return None\n"
   ]
  },
  {
   "cell_type": "code",
   "execution_count": 37,
   "metadata": {},
   "outputs": [],
   "source": [
    "# Function to get Track info from Spotify API\n",
    "def getTrackInfo(trackID, fromError=False):\n",
    "    global accessToken\n",
    "\n",
    "    trackInfoRequest = requests.get(\"https://api.spotify.com/v1/tracks/{id}\".format(id=trackID),\n",
    "        headers={\n",
    "            \"Authorization\": \"Bearer \" + accessToken\n",
    "        })\n",
    "    \n",
    "    if trackInfoRequest.status_code == 200:\n",
    "        return trackInfoRequest.json()\n",
    "    elif trackInfoRequest.status_code == 401 and fromError is False:\n",
    "        accessToken = getAccessToken()\n",
    "        return getTrackInfo(trackID, fromError=True)\n",
    "    else:\n",
    "        return None"
   ]
  },
  {
   "cell_type": "code",
   "execution_count": 39,
   "metadata": {},
   "outputs": [],
   "source": [
    "def getAudioFeatures(trackID, fromError=False):\n",
    "    global accessToken\n",
    "\n",
    "    audioFeaturesRequest = requests.get(\"\thttps://api.spotify.com/v1/audio-features/{id}\".format(id=trackID),\n",
    "                                    headers={\n",
    "        \"Authorization\": \"Bearer \" + accessToken\n",
    "    })\n",
    "\n",
    "    if audioFeaturesRequest.status_code == 200:\n",
    "        return audioFeaturesRequest.json()\n",
    "    elif audioFeaturesRequest.status_code == 401 and fromError is False:\n",
    "        accessToken = getAccessToken()\n",
    "        return getAudioFeatures(trackID, fromError=True)\n",
    "    else:\n",
    "        return None\n"
   ]
  },
  {
   "cell_type": "markdown",
   "metadata": {},
   "source": [
    "# Parse Data"
   ]
  },
  {
   "cell_type": "code",
   "execution_count": 15,
   "metadata": {},
   "outputs": [
    {
     "name": "stdout",
     "output_type": "stream",
     "text": [
      "<class 'pandas.core.frame.DataFrame'>\n",
      "RangeIndex: 9807001 entries, 0 to 9807000\n",
      "Data columns (total 8 columns):\n",
      " #   Column      Dtype  \n",
      "---  ------      -----  \n",
      " 0   Unnamed: 0  int64  \n",
      " 1   country     object \n",
      " 2   date        object \n",
      " 3   position    float64\n",
      " 4   uri         object \n",
      " 5   track       object \n",
      " 6   title       object \n",
      " 7   artist      object \n",
      "dtypes: float64(1), int64(1), object(6)\n",
      "memory usage: 598.6+ MB\n"
     ]
    }
   ],
   "source": [
    "# Load Spotify Charts\n",
    "trackCharts = pd.read_csv(os.path.join(datasetsPath, \"spotifyCharts.csv\"), sep=\",\")\n",
    "\n",
    "trackCharts.info()"
   ]
  },
  {
   "cell_type": "markdown",
   "metadata": {},
   "source": [
    "# Get datas"
   ]
  },
  {
   "cell_type": "code",
   "execution_count": 16,
   "metadata": {},
   "outputs": [
    {
     "name": "stdout",
     "output_type": "stream",
     "text": [
      "<class 'pandas.core.frame.DataFrame'>\n",
      "Int64Index: 65459 entries, 0 to 9806983\n",
      "Data columns (total 1 columns):\n",
      " #   Column  Non-Null Count  Dtype \n",
      "---  ------  --------------  ----- \n",
      " 0   uri     65459 non-null  object\n",
      "dtypes: object(1)\n",
      "memory usage: 1022.8+ KB\n"
     ]
    }
   ],
   "source": [
    "# Drop NaN columns\n",
    "trackCharts = trackCharts.dropna()\n",
    "\n",
    "# Get only uris\n",
    "spotifyTrackLinks = pd.DataFrame(trackCharts[\"uri\"].drop_duplicates())\n",
    "\n",
    "spotifyTrackLinks.info()"
   ]
  },
  {
   "cell_type": "code",
   "execution_count": 97,
   "metadata": {},
   "outputs": [],
   "source": [
    "# Setup DataFrames\n",
    "\n",
    "genresDF = pd.DataFrame(columns=[\"genre\"])\n",
    "tracksDF = pd.DataFrame(columns=[\"id\", \"uri\", \"title\", \"duration\", \"popularity\", \"explicit\",\n",
    "                                \"key\", \"tempo\", \"mode\", \"time_signature\", \"acousticness\", \"danceability\",\n",
    "                                \"energy\", \"loudness\", \"liveness\", \"valence\", \"speechiness\", \"instrumentalness\",\n",
    "                                \"artists\", \"album\", \"available_countries\"])\n",
    "albumDF = pd.DataFrame()\n",
    "artistsDF = pd.DataFrame()\n",
    "peopleDF = pd.DataFrame()\n"
   ]
  },
  {
   "cell_type": "markdown",
   "metadata": {},
   "source": [
    "## Get genres"
   ]
  },
  {
   "cell_type": "code",
   "execution_count": 89,
   "metadata": {},
   "outputs": [
    {
     "name": "stdout",
     "output_type": "stream",
     "text": [
      "{'genres': ['acoustic', 'afrobeat', 'alt-rock', 'alternative', 'ambient', 'anime', 'black-metal', 'bluegrass', 'blues', 'bossanova', 'brazil', 'breakbeat', 'british', 'cantopop', 'chicago-house', 'children', 'chill', 'classical', 'club', 'comedy', 'country', 'dance', 'dancehall', 'death-metal', 'deep-house', 'detroit-techno', 'disco', 'disney', 'drum-and-bass', 'dub', 'dubstep', 'edm', 'electro', 'electronic', 'emo', 'folk', 'forro', 'french', 'funk', 'garage', 'german', 'gospel', 'goth', 'grindcore', 'groove', 'grunge', 'guitar', 'happy', 'hard-rock', 'hardcore', 'hardstyle', 'heavy-metal', 'hip-hop', 'holidays', 'honky-tonk', 'house', 'idm', 'indian', 'indie', 'indie-pop', 'industrial', 'iranian', 'j-dance', 'j-idol', 'j-pop', 'j-rock', 'jazz', 'k-pop', 'kids', 'latin', 'latino', 'malay', 'mandopop', 'metal', 'metal-misc', 'metalcore', 'minimal-techno', 'movies', 'mpb', 'new-age', 'new-release', 'opera', 'pagode', 'party', 'philippines-opm', 'piano', 'pop', 'pop-film', 'post-dubstep', 'power-pop', 'progressive-house', 'psych-rock', 'punk', 'punk-rock', 'r-n-b', 'rainy-day', 'reggae', 'reggaeton', 'road-trip', 'rock', 'rock-n-roll', 'rockabilly', 'romance', 'sad', 'salsa', 'samba', 'sertanejo', 'show-tunes', 'singer-songwriter', 'ska', 'sleep', 'songwriter', 'soul', 'soundtracks', 'spanish', 'study', 'summer', 'swedish', 'synth-pop', 'tango', 'techno', 'trance', 'trip-hop', 'turkish', 'work-out', 'world-music']}\n"
     ]
    }
   ],
   "source": [
    "# Get all genres\n",
    "availableGenres = getAllGenres()\n",
    "\n",
    "# Add genres to DataFrame\n",
    "genresDF.append(availableGenres[\"genres\"])\n",
    "\n",
    "# Save genres to file\n",
    "genresDF.to_csv(datasetsPath + \"/genres.csv\")"
   ]
  },
  {
   "cell_type": "markdown",
   "metadata": {},
   "source": [
    "## Get tracks"
   ]
  },
  {
   "cell_type": "code",
   "execution_count": 98,
   "metadata": {},
   "outputs": [],
   "source": [
    "spotifyUri = spotifyTrackLinks.values[0][0]\n",
    "\n",
    "trackID = spotifyUri.removeprefix(\"https://open.spotify.com/track/\")\n",
    "\n",
    "trackInfo = getTrackInfo(trackID)\n",
    "trackAudioFeatures = getAudioFeatures(trackID)\n",
    "\n",
    "artistsIDs = []\n",
    "for artist in trackInfo[\"artists\"]:\n",
    "    artistsIDs.append(artist[\"id\"])\n",
    "\n",
    "trackObject = {\n",
    "    \"id\": trackInfo[\"id\"],\n",
    "    \"uri\": trackInfo[\"external_urls\"][\"spotify\"],\n",
    "    \"title\": trackInfo[\"name\"],\n",
    "    \"duration\": trackInfo[\"duration_ms\"],\n",
    "    \"popularity\": trackInfo[\"popularity\"],\n",
    "    \"explicit\": trackInfo[\"explicit\"],\n",
    "    \"key\": trackAudioFeatures[\"key\"],\n",
    "    \"tempo\": trackAudioFeatures[\"tempo\"],\n",
    "    \"mode\": trackAudioFeatures[\"mode\"],\n",
    "    \"time_signature\": trackAudioFeatures[\"time_signature\"],\n",
    "    \"acousticness\": trackAudioFeatures[\"acousticness\"],\n",
    "    \"danceability\": trackAudioFeatures[\"danceability\"],\n",
    "    \"energy\": trackAudioFeatures[\"energy\"],\n",
    "    \"loudness\": trackAudioFeatures[\"loudness\"],\n",
    "    \"liveness\": trackAudioFeatures[\"liveness\"],\n",
    "    \"valence\": trackAudioFeatures[\"valence\"],\n",
    "    \"speechiness\": trackAudioFeatures[\"speechiness\"],\n",
    "    \"instrumentalness\": trackAudioFeatures[\"instrumentalness\"],\n",
    "    \"artists\": artistsIDs,\n",
    "    \"album\": trackInfo[\"album\"][\"id\"],\n",
    "    \"available_countries\": trackInfo[\"available_markets\"]\n",
    "}\n",
    "\n",
    "tracksDF.append(pd.DataFrame([list(trackObject.values())]))\n",
    "\n",
    "tracksDF.to_csv(datasetsPath + \"/tracks.csv\")\n"
   ]
  }
 ],
 "metadata": {
  "interpreter": {
   "hash": "63fd5069d213b44bf678585dea6b12cceca9941eaf7f819626cde1f2670de90d"
  },
  "kernelspec": {
   "display_name": "Python 3.9.7 64-bit",
   "name": "python3"
  },
  "language_info": {
   "codemirror_mode": {
    "name": "ipython",
    "version": 3
   },
   "file_extension": ".py",
   "mimetype": "text/x-python",
   "name": "python",
   "nbconvert_exporter": "python",
   "pygments_lexer": "ipython3",
   "version": "3.9.7"
  },
  "orig_nbformat": 4
 },
 "nbformat": 4,
 "nbformat_minor": 2
}
