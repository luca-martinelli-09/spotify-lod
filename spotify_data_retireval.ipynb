{
 "cells": [
  {
   "cell_type": "code",
   "execution_count": 5,
   "metadata": {},
   "outputs": [],
   "source": [
    "# Imports\n",
    "\n",
    "import requests\n",
    "import base64\n",
    "import spotifyCredentials"
   ]
  },
  {
   "cell_type": "code",
   "execution_count": 6,
   "metadata": {},
   "outputs": [],
   "source": [
    "SPOTIFY_CLIENT_ID = spotifyCredentials.SPOTIFY_CLIENT_ID\n",
    "SPOTIFY_SECRET_ID = spotifyCredentials.SPOTIFY_SECRET_ID\n",
    "SPOTIFY_REFRESH_TOKEN = spotifyCredentials.SPOTIFY_REFRESH_TOKEN\n"
   ]
  },
  {
   "cell_type": "code",
   "execution_count": 7,
   "metadata": {},
   "outputs": [
    {
     "name": "stdout",
     "output_type": "stream",
     "text": [
      "Auth Token is BQCAZwkwVIs29DpQmh2CzAfr2IbHC5zqpLUeOPaAVN0QhIrt6LPGwbyplXvWzf__wtrxk3jA6pI7nmrVNb1nfg6aeCXao3e1xBwjA37iCkbkt_seSAX_rEMCM6dpCbmQY3NcsxNLj8Dmjwd8HNMCqSEO2dznw8Q8-wmGmhkgiH08rh8imm1JQLVNirW6CCUjVyMjsGl-XA3wka3sXfabqDPTAeQ415508YsnOe4wG5ERK3M74XlOSWkCaY1O5QHqAr2ywZmvwt9B9k4sE7mMCG7yLhUGz0o4kpVoylUUvA\n"
     ]
    }
   ],
   "source": [
    "authBasic = base64.b64encode(\"{}:{}\".format(SPOTIFY_CLIENT_ID, SPOTIFY_SECRET_ID).encode()).decode()\n",
    "\n",
    "authTokenRequest = requests.post(\"https://accounts.spotify.com/api/token\",\n",
    "    data={\n",
    "        \"grant_type\":\"refresh_token\",\n",
    "        \"refresh_token\":SPOTIFY_REFRESH_TOKEN\n",
    "    },\n",
    "    headers={\n",
    "        \"Content-Type\": \"application/x-www-form-urlencoded\",\n",
    "        \"Authorization\": \"Basic \" + authBasic\n",
    "    }\n",
    ")\n",
    "\n",
    "authToken = None\n",
    "\n",
    "if authTokenRequest.status_code == 200:\n",
    "    authToken = authTokenRequest.json()[\"access_token\"]\n",
    "\n",
    "print(\"Auth Token is {}\".format(authToken))"
   ]
  },
  {
   "cell_type": "code",
   "execution_count": null,
   "metadata": {},
   "outputs": [],
   "source": []
  }
 ],
 "metadata": {
  "interpreter": {
   "hash": "63fd5069d213b44bf678585dea6b12cceca9941eaf7f819626cde1f2670de90d"
  },
  "kernelspec": {
   "display_name": "Python 3.9.7 64-bit",
   "name": "python3"
  },
  "language_info": {
   "codemirror_mode": {
    "name": "ipython",
    "version": 3
   },
   "file_extension": ".py",
   "mimetype": "text/x-python",
   "name": "python",
   "nbconvert_exporter": "python",
   "pygments_lexer": "ipython3",
   "version": "3.10.0"
  },
  "orig_nbformat": 4
 },
 "nbformat": 4,
 "nbformat_minor": 2
}
