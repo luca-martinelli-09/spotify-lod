{
 "cells": [
  {
   "cell_type": "code",
   "execution_count": null,
   "metadata": {},
   "outputs": [],
   "source": [
    "import pandas as pd\n",
    "import json\n",
    "import numpy as np\n"
   ]
  },
  {
   "cell_type": "code",
   "execution_count": null,
   "metadata": {},
   "outputs": [],
   "source": [
    "people = pd.read_csv(\"datasets/people.csv\", sep=\",\")\n",
    "\n",
    "groupedPeople = people.groupby(\"id\")\n",
    "\n",
    "# iterate over each group\n",
    "for peopleID, peopleGroup in groupedPeople:\n",
    "    peopleObj = {}\n",
    "\n",
    "    peopleObj[\"id\"] = peopleID\n",
    "    peopleObj[\"name\"] = peopleGroup.iloc[0][\"name\"] if not pd.isnull(peopleGroup.iloc[0][\"name\"]) else None\n",
    "    peopleObj[\"surname\"] = peopleGroup.iloc[0][\"surname\"] if not pd.isnull(peopleGroup.iloc[0][\"surname\"]) else None\n",
    "    peopleObj[\"birthdate\"] = peopleGroup.iloc[0][\"birthdate\"] if not pd.isnull(peopleGroup.iloc[0][\"birthdate\"]) else None\n",
    "    peopleObj[\"deathdate\"] = peopleGroup.iloc[0][\"deathdate\"] if not pd.isnull(peopleGroup.iloc[0][\"deathdate\"]) else None\n",
    "    peopleObj[\"nationality\"] = peopleGroup.iloc[0][\"nationality\"] if not pd.isnull(peopleGroup.iloc[0][\"nationality\"]) else None\n",
    "    peopleObj[\"complete_name\"] = peopleGroup.iloc[0][\"complete_name\"] if not pd.isnull(peopleGroup.iloc[0][\"complete_name\"]) else None\n",
    "    peopleObj[\"entity_name\"] = peopleGroup.iloc[0][\"entity_name\"] if not pd.isnull(peopleGroup.iloc[0][\"entity_name\"]) else None\n",
    "\n",
    "    artists = []\n",
    "    for index, row in peopleGroup.iterrows():\n",
    "       artists.append(row[\"artist\"])\n",
    "    \n",
    "    peopleObj[\"artists\"] = artists\n",
    "\n",
    "    print(json.dumps(peopleObj, indent=2))"
   ]
  }
 ],
 "metadata": {
  "interpreter": {
   "hash": "63fd5069d213b44bf678585dea6b12cceca9941eaf7f819626cde1f2670de90d"
  },
  "kernelspec": {
   "display_name": "Python 3.9.7 64-bit",
   "language": "python",
   "name": "python3"
  },
  "language_info": {
   "codemirror_mode": {
    "name": "ipython",
    "version": 3
   },
   "file_extension": ".py",
   "mimetype": "text/x-python",
   "name": "python",
   "nbconvert_exporter": "python",
   "pygments_lexer": "ipython3",
   "version": "3.9.7"
  },
  "orig_nbformat": 4
 },
 "nbformat": 4,
 "nbformat_minor": 2
}
