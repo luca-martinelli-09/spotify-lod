{
 "cells": [
  {
   "cell_type": "code",
   "execution_count": null,
   "metadata": {},
   "outputs": [],
   "source": [
    "# Imports\n",
    "\n",
    "import os\n",
    "from pathlib import Path\n",
    "import pandas as pd\n",
    "from datetime import datetime, timedelta"
   ]
  },
  {
   "cell_type": "markdown",
   "metadata": {},
   "source": [
    "# Setup"
   ]
  },
  {
   "cell_type": "code",
   "execution_count": null,
   "metadata": {},
   "outputs": [],
   "source": [
    "# Get absolute path\n",
    "absPath = str(Path(os.path.abspath(os.getcwd())).absolute())\n",
    "datasetsPath = os.path.join(absPath, \"datasets\")\n",
    "\n",
    "# Create dataset directory if not exists\n",
    "if not os.path.exists(datasetsPath):\n",
    "    os.mkdir(datasetsPath)\n",
    "\n",
    "# Setup datasets paths\n",
    "spotifyChartsPath = os.path.join(datasetsPath, \"spotifyCharts.csv\")\n",
    "spotifyReducedChartsPath = os.path.join(datasetsPath, \"reducedSpotifyCharts.csv\")\n"
   ]
  },
  {
   "cell_type": "markdown",
   "metadata": {},
   "source": [
    "## Open data file"
   ]
  },
  {
   "cell_type": "code",
   "execution_count": null,
   "metadata": {},
   "outputs": [],
   "source": [
    "# Load Spotify Charts\n",
    "trackCharts = pd.read_csv(spotifyChartsPath, sep=\",\", index_col=0)\n",
    "\n",
    "# Drop NaN columns\n",
    "trackCharts = trackCharts.dropna()\n",
    "\n",
    "# Print track charts info\n",
    "trackCharts.info()\n"
   ]
  },
  {
   "cell_type": "markdown",
   "metadata": {},
   "source": [
    "# Sample selector"
   ]
  },
  {
   "cell_type": "code",
   "execution_count": null,
   "metadata": {},
   "outputs": [],
   "source": [
    "# onlyFirst: select only first x days of the charts. For example, onlyFirst=50 means take the top 50 songs\n",
    "# daysRange: select samples every x days. For example, daysRange=7 means select charts every week\n",
    "\n",
    "def selectSamples(trackCharts, onlyFirst=-1, daysRange=7):\n",
    "    reducedTrackCharts = pd.DataFrame()\n",
    "\n",
    "    # First and final date in the csv\n",
    "    firstDateStr = trackCharts.iloc[-1][\"date\"]\n",
    "    endDateStr = trackCharts.iloc[0][\"date\"]\n",
    "\n",
    "    # Initialize for the while\n",
    "    actualDate = datetime.strptime(firstDateStr, \"%d/%m/%Y\").date()\n",
    "    endDate = datetime.strptime(endDateStr, \"%d/%m/%Y\").date()\n",
    "\n",
    "    while(actualDate < endDate):\n",
    "        if onlyFirst > 0:\n",
    "            reducedTrackCharts = pd.concat([reducedTrackCharts, trackCharts.loc[\n",
    "                (trackCharts['date'] == actualDate.strftime(\"%d/%m/%Y\")) &\n",
    "                (trackCharts['position'] <= onlyFirst)\n",
    "            ]], ignore_index=True)\n",
    "        else:\n",
    "            reducedTrackCharts = pd.concat(\n",
    "                [reducedTrackCharts, trackCharts.loc[\n",
    "                    trackCharts['date'] == actualDate.strftime(\"%d/%m/%Y\")\n",
    "                ]], ignore_index=True)\n",
    "    \n",
    "        actualDate = actualDate + timedelta(days=daysRange)\n",
    "    \n",
    "    return reducedTrackCharts\n"
   ]
  },
  {
   "cell_type": "code",
   "execution_count": null,
   "metadata": {},
   "outputs": [],
   "source": [
    "# Reduce the chart tracks\n",
    "reducedTrackCharts = selectSamples(trackCharts, onlyFirst=100, daysRange=7)\n",
    "\n",
    "# Print DataFrame info\n",
    "reducedTrackCharts.info()\n"
   ]
  },
  {
   "cell_type": "code",
   "execution_count": null,
   "metadata": {},
   "outputs": [],
   "source": [
    "# Save the DataFrame to file\n",
    "reducedTrackCharts.to_csv(spotifyReducedChartsPath)"
   ]
  }
 ],
 "metadata": {
  "interpreter": {
   "hash": "63fd5069d213b44bf678585dea6b12cceca9941eaf7f819626cde1f2670de90d"
  },
  "kernelspec": {
   "display_name": "Python 3.9.7 64-bit",
   "name": "python3"
  },
  "language_info": {
   "codemirror_mode": {
    "name": "ipython",
    "version": 3
   },
   "file_extension": ".py",
   "mimetype": "text/x-python",
   "name": "python",
   "nbconvert_exporter": "python",
   "pygments_lexer": "ipython3",
   "version": "3.9.7"
  },
  "orig_nbformat": 4
 },
 "nbformat": 4,
 "nbformat_minor": 2
}
